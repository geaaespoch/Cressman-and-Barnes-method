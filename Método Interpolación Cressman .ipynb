{
 "cells": [
  {
   "cell_type": "code",
   "execution_count": null,
   "id": "a0100e6c",
   "metadata": {},
   "outputs": [],
   "source": [
    "# Calcula las distancias entre cada punto y todos los demás puntos\n",
    "distances = np.zeros((len(dfmi), len(dfmi)))\n",
    "for i in range(len(dfmi)):\n",
    "    for j in range(len(dfmi)):\n",
    "        distances[i,j] = np.sqrt((dfmi['Dia'][i] - dfmi['Dia'][j])**2 + (dfmi['Hora'][i] - dfmi['Hora'][j])**2)\n",
    "\n",
    "# Definir el radio de influencia y calcular los pesos para cada punto\n",
    "radius = 10  # radio de influencia en unidades de longitud\n",
    "weights = np.zeros((len(dfmi), len(dfmi)))\n",
    "for i in range(len(dfmi)):\n",
    "    for j in range(len(dfmi)):\n",
    "        if i != j and distances[i,j] <= radius:\n",
    "            weights[i,j] = 1 - (distances[i,j] / radius)\n",
    "\n",
    "# Normaliza los pesos para cada punto\n",
    "for i in range(len(dfmi)):\n",
    "    weight_sum = np.sum(weights[i,:])\n",
    "    if weight_sum > 0:\n",
    "        weights[i,:] /= weight_sum\n",
    "\n",
    "# Calcula los valores interpolados para cada punto faltante en la columna \n",
    "for i in range(len(dfmi)):\n",
    "    if np.isnan(dfmi['T2M'][i]):\n",
    "        z_interpolated = 0\n",
    "        weight_sum = 0\n",
    "        for j in range(len(dfmi)):\n",
    "            if i != j and not np.isnan(dfmi['T2M'][j]):\n",
    "                z_interpolated += weights[j,i] * dfmi['T2M'][j]\n",
    "                weight_sum += weights[j,i]\n",
    "        if weight_sum > 0:\n",
    "            dfmi['T2M'][i] = z_interpolated / weight_sum\n",
    "\n"
   ]
  }
 ],
 "metadata": {
  "kernelspec": {
   "display_name": "Python 3 (ipykernel)",
   "language": "python",
   "name": "python3"
  },
  "language_info": {
   "codemirror_mode": {
    "name": "ipython",
    "version": 3
   },
   "file_extension": ".py",
   "mimetype": "text/x-python",
   "name": "python",
   "nbconvert_exporter": "python",
   "pygments_lexer": "ipython3",
   "version": "3.8.16"
  }
 },
 "nbformat": 4,
 "nbformat_minor": 5
}
